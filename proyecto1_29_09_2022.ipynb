{
 "cells": [
  {
   "cell_type": "markdown",
   "id": "17fde412",
   "metadata": {},
   "source": [
    "### Problema del Proyecto\n",
    "##### Constructora\n",
    "\n",
    "<img style=\"float: right; margin: 0px 0px 15px 15px;\" src=\"https://pbs.twimg.com/media/Cksu73NUYAA6rW9.jpg\" width=\"300px\" height=\"100px\" />\n",
    "\n",
    "\n",
    "La Empresa *(ECOM)* *Ecología en Combustion* vende un limpiador para inyectores por 27 dolares. Cada limpiador de inyectores que se fabrica, aumenta la mano de obra y los costos generales a 14 dolares. (13 dolares de utilidad)\n",
    "\n",
    "La Empresa *(ECOM)* *Ecología en Combustion* también vende un desengrasante para motores por 21 dolares. Cada desengrasante para motores que se fabrica, aumenta la mano de obra y los costos generales a 11 dolares.(10 dolares de utilidad)\n",
    "\n",
    "Para la produccion de estos productos, la compañia cuenta con 8 naves industriales:\n",
    "* A:Ciudad de Mexico\n",
    "* B:Guadalajara\n",
    "* C:Monterrey\n",
    "* D:Estado de Mexico\n",
    "* E:Durango\n",
    "* F:Merida\n",
    "\n",
    "La fabricación de ambos productos requiere dos tipos de mano de obra especializada; enlatado y etiquetado. El tiempo de fabricación se indica en la siguiente tabla:\n",
    "\n",
    "Planta|Tiempo de Fabricación Total(Enlatado y Etiquetado)Inyector|Tiempo de Fabricación Total(Enlatado y Etiquetado)Desengrasante|Tiempo de Operacion de Planta\n",
    ":----|----|----|----\n",
    "A|  3 minutos|2 minutos|480 minutos\n",
    "B|  4 minutos|1 minutos|420 minutos\n",
    "C|  2 minutos|2 minutos|360 minutos\n",
    "D|  3 minutos|2 minutos|480 minutos\n",
    "E|  3 minutos|3 minutos|360 minutos\n",
    "F|  2 minutos|1 minutos|420 minutos\n",
    "\n",
    "Los beneficios que se obtienen por cada limpiador para inyectores son de $13$ dolares y por  cada desengrasante para motores $10$ dolares,  ¿cuántas  unidades se deben  producir  para maximizar las  ganancias de la empresa en base a los datos mostrados anteriormente y en qué plantas hay mejor desempeño de producción en base a la función?\n",
    "\n",
    "¿ Cuáles son nuestras variables ?\n",
    "\n",
    "Nuestras variables representan los productos de la empresa **ECOM**\n",
    "\n",
    "x = Limpiador para Inyectores\n",
    "\n",
    "y = Desengrasante para motores\n",
    "\n",
    "*FUNCION A MAXIMIZAR*\n",
    "\n",
    "$ 13x+10y $ \n",
    "\n",
    "\n",
    "*RESTRICCIONES*\n",
    "\n",
    "$ A-> 3x + 2y ≤ 480 $\n",
    "\n",
    "$  B -> 4x + y ≤ 420 $\n",
    "\n",
    "$  C -> 2x + 2y ≤ 360 $\n",
    "\n",
    "$  D -> 3x + 2y ≤ 480 $\n",
    "\n",
    "$  E -> 3x + 3y ≤ 360 $\n",
    "\n",
    "$  F -> 2x + y ≤ 420 $\n",
    "\n",
    "\n",
    "\n",
    "\n",
    "\n",
    "<img style=\"float: centre; margin: 0px 0px 15px 15px;\" src=\"https://www.monay.com.mx/images/ecom-aerosoles.jpg?crc=3847670937\" width=\"600px\" height=\"200px\" />"
   ]
  },
  {
   "cell_type": "code",
   "execution_count": null,
   "id": "c2cf6b51",
   "metadata": {},
   "outputs": [],
   "source": []
  },
  {
   "cell_type": "code",
   "execution_count": 63,
   "id": "05754f7d",
   "metadata": {},
   "outputs": [],
   "source": [
    "import numpy as np \n",
    "import sympy as sp\n",
    "import matplotlib.pyplot as plt\n",
    "%matplotlib inline \n",
    "\n",
    "muestrasInyectores = np.linspace(0 , 450, 100)\n",
    "\n",
    "def restriccion1(x) :\n",
    "    return ((480 - 3*x) / 2)\n",
    "def restriccion2(x) : \n",
    "    return (420 - 4*x)\n",
    "def restriccion3(x) : \n",
    "    return ((360 - 2*x) / 2)\n",
    "def restriccion4(x) : \n",
    "    return ((480 - 3*x) / 2)\n",
    "def restriccion5(x) : \n",
    "    return ((360 - 3*x) / 3)\n",
    "def restriccion6(x) : \n",
    "    return (420 - 2*x)"
   ]
  },
  {
   "cell_type": "code",
   "execution_count": 64,
   "id": "f8fbda43",
   "metadata": {},
   "outputs": [
    {
     "data": {
      "text/plain": [
       "[<matplotlib.lines.Line2D at 0x7f7cc85dd400>]"
      ]
     },
     "execution_count": 64,
     "metadata": {},
     "output_type": "execute_result"
    },
    {
     "data": {
      "image/png": "[encoded data removed]",
      "text/plain": [
       "<Figure size 432x288 with 1 Axes>"
      ]
     },
     "metadata": {
      "needs_background": "light"
     },
     "output_type": "display_data"
    }
   ],
   "source": [
    "plt.figure()\n",
    "plt.grid()\n",
    "plt.ylim([0,500])\n",
    "plt.xlim([0,500])\n",
    "\n",
    "desengrasantesPlantaA = restriccion1(muestrasInyectores)\n",
    "desengrasantesPlantaB = restriccion2(muestrasInyectores)\n",
    "desengrasantesPlantaC = restriccion3(muestrasInyectores)\n",
    "desengrasantesPlantaD = restriccion4(muestrasInyectores)\n",
    "desengrasantesPlantaE = restriccion5(muestrasInyectores)\n",
    "desengrasantesPlantaF = restriccion6(muestrasInyectores)\n",
    "\n",
    "plt.plot(muestrasInyectores, desengrasantesPlantaA, \"b\", label = \"Vector 1\")\n",
    "plt.plot(muestrasInyectores, desengrasantesPlantaB, \"g\", label = \"Vector 2\")\n",
    "plt.plot(muestrasInyectores, desengrasantesPlantaC, \"r\", label = \"Vector 3\")\n",
    "plt.plot(muestrasInyectores, desengrasantesPlantaD, \"c\", label = \"Vector 4\")\n",
    "plt.plot(muestrasInyectores, desengrasantesPlantaE, \"m\", label = \"Vector 5\")\n",
    "plt.plot(muestrasInyectores, desengrasantesPlantaF, \"y\", label = \"Vector 6\")\n",
    "plt.plot(te,20, \"r*\")\n"
   ]
  },
  {
   "cell_type": "code",
   "execution_count": null,
   "id": "a3a6e31a",
   "metadata": {},
   "outputs": [],
   "source": []
  },
  {
   "cell_type": "code",
   "execution_count": null,
   "id": "21209b6d",
   "metadata": {},
   "outputs": [],
   "source": []
  },
  {
   "cell_type": "code",
   "execution_count": null,
   "id": "c969af2b",
   "metadata": {},
   "outputs": [],
   "source": []
  },
  {
   "cell_type": "code",
   "execution_count": null,
   "id": "7b91ffef",
   "metadata": {},
   "outputs": [],
   "source": []
  }
 ],
 "metadata": {
  "kernelspec": {
   "display_name": "Python 3 (ipykernel)",
   "language": "python",
   "name": "python3"
  },
  "language_info": {
   "codemirror_mode": {
    "name": "ipython",
    "version": 3
   },
   "file_extension": ".py",
   "mimetype": "text/x-python",
   "name": "python",
   "nbconvert_exporter": "python",
   "pygments_lexer": "ipython3",
   "version": "3.9.12"
  }
 },
 "nbformat": 4,
 "nbformat_minor": 5
}
